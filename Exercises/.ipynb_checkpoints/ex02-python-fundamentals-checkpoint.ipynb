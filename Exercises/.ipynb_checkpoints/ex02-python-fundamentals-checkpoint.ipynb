{
 "cells": [
  {
   "cell_type": "markdown",
   "metadata": {},
   "source": [
    "## Exercise 2 - Python fundamentals Part 2"
   ]
  },
  {
   "cell_type": "markdown",
   "metadata": {},
   "source": [
    "1 Create a function which will go through a list called **vars** and save the type of each variable to a new list. The starting information is given in the next cell."
   ]
  },
  {
   "cell_type": "code",
   "execution_count": 3,
   "metadata": {},
   "outputs": [
    {
     "name": "stdout",
     "output_type": "stream",
     "text": [
      "[<class 'int'>, <class 'str'>, <class 'int'>, <class 'float'>, <class 'list'>, <class 'bool'>, <class 'tuple'>]\n"
     ]
    }
   ],
   "source": [
    "# Your function here\n",
    "def typesinlist(glst):\n",
    "    rtr = []\n",
    "    for i in glst:\n",
    "        rtr.append(type(i))\n",
    "    return rtr\n",
    "\n",
    "# Test\n",
    "vars = [100,\"Car\",25000,10.0,[\"a\",\"b\",\"c\"],True,(\"a\",\"b\")]\n",
    "\n",
    "print(typesinlist(vars))\n"
   ]
  },
  {
   "cell_type": "markdown",
   "metadata": {},
   "source": [
    "2 You are given two lists **l1** and **l2**. Create a function which will take two lists as input and print values that are present in both lists."
   ]
  },
  {
   "cell_type": "code",
   "execution_count": 6,
   "metadata": {},
   "outputs": [
    {
     "name": "stdout",
     "output_type": "stream",
     "text": [
      "1\n",
      "5\n",
      "7\n",
      "9\n"
     ]
    }
   ],
   "source": [
    "# Your function here\n",
    "def findsharedelements(ls, lz):\n",
    "    for i in ls:\n",
    "        for j in lz:\n",
    "            if i == j:\n",
    "                print(i)\n",
    "\n",
    "# Test\n",
    "l1 = [1,4,5,7,8,9,10]\n",
    "l2 = [1,2,3,5,6,7,9]\n",
    "\n",
    "findsharedelements(l1, l2)"
   ]
  },
  {
   "cell_type": "markdown",
   "metadata": {},
   "source": [
    "3 Below is a list containing words. Create a function which returns only words with length of 4 or less."
   ]
  },
  {
   "cell_type": "code",
   "execution_count": 7,
   "metadata": {},
   "outputs": [
    {
     "name": "stdout",
     "output_type": "stream",
     "text": [
      "['code', '', 'red', 'mill', 'are']\n"
     ]
    }
   ],
   "source": [
    "# Your function here\n",
    "def fourorless(sdiu):\n",
    "    rfrfr = []\n",
    "    for i in sdiu:\n",
    "        if len(i) < 5:\n",
    "            rfrfr.append(i)\n",
    "    return rfrfr\n",
    "\n",
    "# Test\n",
    "words = [\"bootcamp\",\"yellow\",\"development\",\"full-time\",\"code\",\"fresh\",\"\",\"static\",\"red\",\"advance\",\"mill\",\"story\",\"are\"]\n",
    "\n",
    "print(fourorless(words))"
   ]
  },
  {
   "cell_type": "markdown",
   "metadata": {},
   "source": [
    "4 Create a function which takes does the following:\n",
    "    - Take list of dictionaries containing information of data loggers presented below as an input\n",
    "    - Iterate through the dictionary and count the total amount of each sensor type. Example: {\"temp\":2,\"hum\":5,\"light\":2,\"noise\":4}.\n",
    "    - Return this dictionary"
   ]
  },
  {
   "cell_type": "code",
   "execution_count": 20,
   "metadata": {},
   "outputs": [
    {
     "name": "stdout",
     "output_type": "stream",
     "text": [
      "['temp', 'hum', 'noise', 'temp', 'hum', 'temp', 'hum', 'light', 'temp', 'hum', 'light', 'temp', 'hum', 'noise', 'light']\n",
      "['temp', 'hum', 'noise', 'light']\n",
      "{'temp': 5, 'hum': 5, 'noise': 2, 'light': 3}\n"
     ]
    }
   ],
   "source": [
    "# my function is here wow\n",
    "def dictionaryanalyzer(sdt):\n",
    "    rt = {}\n",
    "    ert = []\n",
    "    sert = []\n",
    "    for i in sdt:\n",
    "        sert.extend(i[\"sensors\"])\n",
    "    for j in sert:\n",
    "        jooko = True\n",
    "        for k in ert:\n",
    "            if k == j:\n",
    "                jooko = False\n",
    "        if jooko:\n",
    "            ert.append(j)\n",
    "    for m in ert:\n",
    "        cnt = 0;\n",
    "        for n in sert:\n",
    "            if m == n:\n",
    "                cnt += 1\n",
    "        rt[m]= cnt\n",
    "    # print(sert)\n",
    "    # print(ert)\n",
    "    return rt\n",
    "\n",
    "# Data loggers\n",
    "sdata = [{\"ID\":\"logger-1\",\"sensors\":[\"temp\",\"hum\",\"noise\"]},{\"ID\":\"logger-2\",\"sensors\":[\"temp\",\"hum\"]},{\"ID\":\"logger-3\",\"sensors\":[\"temp\",\"hum\",\"light\"]},{\"ID\":\"logger-4\",\"sensors\":[\"temp\",\"hum\",\"light\"]},{\"ID\":\"logger-5\",\"sensors\":[\"temp\",\"hum\",\"noise\",\"light\"]}]\n",
    "\n",
    "# jaa-a, tämä tuntuu sellaiselta toteutukselta, että kun palaan tähän myöhemmin niin osaan helpommin poimia ja käsitellä näitä tietoja\n",
    "print(dictionaryanalyzer(sdata))"
   ]
  },
  {
   "cell_type": "code",
   "execution_count": null,
   "metadata": {},
   "outputs": [],
   "source": []
  }
 ],
 "metadata": {
  "kernelspec": {
   "display_name": "Python 3 (ipykernel)",
   "language": "python",
   "name": "python3"
  },
  "language_info": {
   "codemirror_mode": {
    "name": "ipython",
    "version": 3
   },
   "file_extension": ".py",
   "mimetype": "text/x-python",
   "name": "python",
   "nbconvert_exporter": "python",
   "pygments_lexer": "ipython3",
   "version": "3.9.13"
  },
  "vscode": {
   "interpreter": {
    "hash": "05cbb8e30cd2cbe161554e93617827c610928832f77224aad1765f5c87120ccf"
   }
  }
 },
 "nbformat": 4,
 "nbformat_minor": 4
}
