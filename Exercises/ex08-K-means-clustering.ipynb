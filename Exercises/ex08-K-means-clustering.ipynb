{
 "cells": [
  {
   "cell_type": "markdown",
   "id": "6e4aa752-92f6-462e-84b0-f80f3985281e",
   "metadata": {},
   "source": [
    "## Exercise 8 - K-means clustering\n",
    "\n",
    "- Download the dataset from [here](http://student.labranet.jamk.fi/~hantt/data/voice.csv)\n",
    "- This dataset will be used in exercises 8, 9 and 10\n",
    "- Dataset includes male and female voice samples with different features\n",
    "- In this exercise you will use unsupervised machine learning method called K-means clustering for the dataset"
   ]
  },
  {
   "cell_type": "markdown",
   "id": "c96fee29-fe6b-42c8-86f9-d93e3310fe8c",
   "metadata": {},
   "source": [
    "1 Import all necessary libraries. Then load the dataset and save it to the dataframe."
   ]
  },
  {
   "cell_type": "markdown",
   "id": "e068ff48-9d97-44eb-847f-016e7568b315",
   "metadata": {},
   "source": [
    "2 In this exercise you will use only meanfun (*average of fundamental frequency measured across acoustic signal*) and IQR (*interquantile range measured in kHz*) columns. Filter data so that only forementioned columns will be included."
   ]
  },
  {
   "cell_type": "markdown",
   "id": "8f416845-6ca7-49dc-99ad-dc1632efe2ee",
   "metadata": {},
   "source": [
    "3 Run the predictions for the data so that it will be categorised for male and female data."
   ]
  },
  {
   "cell_type": "markdown",
   "id": "1efc1c1a-f11a-4471-81ef-903dd8b6a94c",
   "metadata": {},
   "source": [
    "4 Visualise the data so that clusters for male and female data will be presented in scatter plot (centroids should also be included)."
   ]
  },
  {
   "cell_type": "markdown",
   "id": "c4f10016-5e26-45ee-b3b1-36a06e24ed47",
   "metadata": {},
   "source": [
    "5 Validate K-means clustering prediction results using confusion matrix."
   ]
  }
 ],
 "metadata": {
  "kernelspec": {
   "display_name": "Python 3 (ipykernel)",
   "language": "python",
   "name": "python3"
  },
  "language_info": {
   "codemirror_mode": {
    "name": "ipython",
    "version": 3
   },
   "file_extension": ".py",
   "mimetype": "text/x-python",
   "name": "python",
   "nbconvert_exporter": "python",
   "pygments_lexer": "ipython3",
   "version": "3.8.12"
  }
 },
 "nbformat": 4,
 "nbformat_minor": 5
}
