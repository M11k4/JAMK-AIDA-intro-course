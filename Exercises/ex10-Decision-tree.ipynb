{
 "cells": [
  {
   "cell_type": "markdown",
   "id": "e0f1f672-d06f-4fb0-92f5-855799faa55c",
   "metadata": {},
   "source": [
    "## Exercise 10 - Decision tree\n",
    "\n",
    "- Use the same dataset as in previous exercises (ex08 and ex09) (can be downloaded [here](http://student.labranet.jamk.fi/~hantt/data/voice.csv))\n",
    "- Dataset includes male and female voice samples with different features\n",
    "- In this exercise you will use supervised machine learning method called decision tree for the dataset"
   ]
  },
  {
   "cell_type": "markdown",
   "id": "0953a546-328d-4af2-914e-9d70da49a6db",
   "metadata": {},
   "source": [
    "1 Import all necessary libraries. Then load the dataset and save it to the dataframe."
   ]
  },
  {
   "cell_type": "markdown",
   "id": "c2dbbd22-51fc-4e68-98af-17ca8df9ca7d",
   "metadata": {},
   "source": [
    "2 Filter dataframe for meanfun and IQR columns only."
   ]
  },
  {
   "cell_type": "markdown",
   "id": "43658565-80b5-4d01-b1a2-c9daac79cb74",
   "metadata": {},
   "source": [
    "3 Divide the data with the following portions:\n",
    "   - Training data 70 %\n",
    "   - Test data 30 %"
   ]
  },
  {
   "cell_type": "markdown",
   "id": "2e629fae-7e4b-4ea5-9cf9-4ae7d3d7bb49",
   "metadata": {},
   "source": [
    "4 Define classifier without the max_depth parameter. Use get_depth() method for the defined classifier. What value for tree depth was chosen automatically?"
   ]
  },
  {
   "cell_type": "markdown",
   "id": "d66444fb-da1f-4c60-b413-451af6ec0391",
   "metadata": {},
   "source": [
    "5 Visualise the tree structure and create the confusion matrix where you can compare true and predicted labels."
   ]
  }
 ],
 "metadata": {
  "kernelspec": {
   "display_name": "Python 3 (ipykernel)",
   "language": "python",
   "name": "python3"
  },
  "language_info": {
   "codemirror_mode": {
    "name": "ipython",
    "version": 3
   },
   "file_extension": ".py",
   "mimetype": "text/x-python",
   "name": "python",
   "nbconvert_exporter": "python",
   "pygments_lexer": "ipython3",
   "version": "3.8.12"
  }
 },
 "nbformat": 4,
 "nbformat_minor": 5
}
