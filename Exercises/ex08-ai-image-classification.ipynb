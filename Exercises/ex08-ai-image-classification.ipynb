{
 "cells": [
  {
   "cell_type": "markdown",
   "source": [
    "## Exercise 8 - Image classification with Neuwo AI\r\n",
    "- In this exercise you will use our Neuwo AI platform in Labranet.\r\n",
    "- **Important**: In order to connect to this service you must have your Labranet VPN connection active!\r\n",
    "- Service can be found [here](https://neuwo.labranet.jamk.fi/).\r\n",
    "- You might get warning about the certificate, which you must accept in order to continue to the service.\r\n",
    "- If you haven't created the account previously, do so by clicking the **REGISTER NOW!** button from the login screen.\r\n",
    "- Now do the following steps:"
   ],
   "metadata": {}
  },
  {
   "cell_type": "markdown",
   "source": [
    "1 Choose any image dataset you find interesting. Write a little description about the dataset you have chosen. **Important**: Use different dataset than the one used in the demo (Face mask recognition)!"
   ],
   "metadata": {}
  },
  {
   "cell_type": "markdown",
   "source": [
    "2 Create a project (Choose **START NEW** after login) and use the following settings:\r\n",
    "- **Phase 1**: Give your project a name and a short description.\r\n",
    "- **Phase 2**: Select **Bbox object detection** as config example and then add the labels you want to use into the **Labeling Config**.\r\n",
    "- **Phase 3**: ML-MODEL: Choose **bounding-box** and how many processed images before starting the training process.\r\n",
    "- **Phase 4**: Upload your image dataset.\r\n",
    "- **Phase 5**: Start labeling"
   ],
   "metadata": {}
  },
  {
   "cell_type": "markdown",
   "source": [
    "3 Present your results here with example screenshots including the AI chosen bounding boxes in each image."
   ],
   "metadata": {}
  }
 ],
 "metadata": {
  "orig_nbformat": 4,
  "language_info": {
   "name": "python"
  }
 },
 "nbformat": 4,
 "nbformat_minor": 2
}