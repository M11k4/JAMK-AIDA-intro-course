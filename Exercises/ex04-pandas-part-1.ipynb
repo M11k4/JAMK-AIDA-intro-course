{
 "metadata": {
  "language_info": {
   "codemirror_mode": {
    "name": "ipython",
    "version": 3
   },
   "file_extension": ".py",
   "mimetype": "text/x-python",
   "name": "python",
   "nbconvert_exporter": "python",
   "pygments_lexer": "ipython3",
   "version": 3
  },
  "orig_nbformat": 2
 },
 "nbformat": 4,
 "nbformat_minor": 2,
 "cells": [
  {
   "cell_type": "markdown",
   "source": [
    "## Exercise 4 - Pandas part 1\r\n",
    "- Use *earthquake.csv* file from data_files directory in this exercise. **Important:** Edit the original DataFrame throughout this whole notebook!"
   ],
   "metadata": {}
  },
  {
   "cell_type": "markdown",
   "source": [
    "1 Read the data from the csv file and create a DataFrame from it."
   ],
   "metadata": {}
  },
  {
   "cell_type": "markdown",
   "source": [
    "2 Remove the following columns from the DataFrame: *Magnitude Seismic Stations*, *Azimuthal Gap*, *Horizontal Distance* and *Horizontal Error*."
   ],
   "metadata": {}
  },
  {
   "cell_type": "markdown",
   "source": [
    "3 Filter data from the DataFrame so that only rows matching the following criteria will be shown:\n",
    "    - Source must be US\n",
    "    - Magnitude value must be over 7.8\n",
    "    - ID value must start with the string \"USP0007\""
   ],
   "metadata": {}
  },
  {
   "cell_type": "markdown",
   "source": [
    "4 Create a new column to the tenth column position called Grade which will have values from the following formula: (\"Magnitude\" * \"Depth\") / \"Root Mean Square\". Results in this column should be presented with three decimals."
   ],
   "metadata": {}
  },
  {
   "cell_type": "markdown",
   "source": [
    "5 Filter out events that have occurred before the 1st of January in 1996. Then write the resulting DataFrame into csv file called *filtered_earthquake_data.csv*."
   ],
   "metadata": {}
  }
 ]
}