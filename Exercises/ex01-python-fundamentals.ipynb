{
 "cells": [
  {
   "cell_type": "markdown",
   "metadata": {},
   "source": [
    "## Exercise 1 - Python fundamentals Part 1"
   ]
  },
  {
   "cell_type": "markdown",
   "metadata": {},
   "source": [
    "1 Sentence is presented in the code cell below. Create a variable which has first ten and last ten characters concatenated."
   ]
  },
  {
   "cell_type": "code",
   "execution_count": 6,
   "metadata": {},
   "outputs": [],
   "source": [
    "# Sentence\n",
    "s = \"Gary must look towards the future in order to gather enough information from the target.\""
   ]
  },
  {
   "cell_type": "markdown",
   "metadata": {},
   "source": [
    "2 Count the number of white spaces between words from the previous sentence and divide that number with the length of the sentence."
   ]
  },
  {
   "cell_type": "code",
   "execution_count": 7,
   "metadata": {},
   "outputs": [],
   "source": [
    "# Your answer here\n"
   ]
  },
  {
   "cell_type": "markdown",
   "metadata": {},
   "source": [
    "3 Add the following cars to the existing list of dictionary objects:\n",
    "    - Red Toyota Corolla (1985)\n",
    "    - Lightblue Ford Mustang (1965)\n",
    "    - Black Pontiac Firebird (1987)"
   ]
  },
  {
   "cell_type": "code",
   "execution_count": 8,
   "metadata": {},
   "outputs": [],
   "source": [
    "# Cars\n",
    "cars = [{\"make\":\"Ford\",\"model\":\"escort\",\"color\":\"green\",\"year\":1994},{\"make\":\"Lexus\",\"model\":\"IS250\",\"color\":\"beige\",\"year\":2013},{\"make\":\"Volvo\",\"model\":\"S40\",\"color\":\"blue\",\"year\":1998}]"
   ]
  },
  {
   "cell_type": "markdown",
   "metadata": {},
   "source": [
    "4 Convert the sentence presented below to list using commas (,) as separators. Then create a new list which contains only the last three items from the list."
   ]
  },
  {
   "cell_type": "code",
   "execution_count": null,
   "metadata": {},
   "outputs": [],
   "source": [
    "# Sentence\n",
    "s = \"Occaecat short ribs incididunt laboris. Bresaola, brisket ex, landjaeger ad, boudin pariatur frankfurter eu flank. Enim tail short ribs, shoulder duis minim excepteur, deserunt lorem porchetta. Dolor chicken spare ribs, id in, ball, tip, hamburger labore venison consectetur cupidatat.\""
   ]
  }
 ],
 "metadata": {
  "kernelspec": {
   "display_name": "Python 3.8.5 64-bit (conda)",
   "name": "python385jvsc74a57bd08b50b686190c14b0a5176f7257ee24c43a886d1ffbaa1fefb478a1f90f0f3afb"
  },
  "language_info": {
   "codemirror_mode": {
    "name": "ipython",
    "version": 3
   },
   "file_extension": ".py",
   "mimetype": "text/x-python",
   "name": "python",
   "nbconvert_exporter": "python",
   "pygments_lexer": "ipython3",
   "version": "3.8.5"
  },
  "orig_nbformat": 2
 },
 "nbformat": 4,
 "nbformat_minor": 2
}
