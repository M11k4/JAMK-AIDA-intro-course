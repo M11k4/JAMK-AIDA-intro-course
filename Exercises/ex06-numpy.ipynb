{
 "metadata": {
  "language_info": {
   "codemirror_mode": {
    "name": "ipython",
    "version": 3
   },
   "file_extension": ".py",
   "mimetype": "text/x-python",
   "name": "python",
   "nbconvert_exporter": "python",
   "pygments_lexer": "ipython3",
   "version": 3
  },
  "orig_nbformat": 2
 },
 "nbformat": 4,
 "nbformat_minor": 2,
 "cells": [
  {
   "cell_type": "markdown",
   "source": [
    "## Exercise 6 - Numpy"
   ],
   "metadata": {}
  },
  {
   "cell_type": "markdown",
   "source": [
    "1 Generate two NumPy arrays so that first array has integers from 10 to 40 (inclusive). Second array should have 30 integers from 220 to 250 (inclusive). Sum these arrays and present the result array."
   ],
   "metadata": {}
  },
  {
   "cell_type": "markdown",
   "source": [
    "2 Generate two-dimensional array with 10 rows and 7 columns containing integers starting from 100."
   ],
   "metadata": {}
  },
  {
   "cell_type": "markdown",
   "source": [
    "3 Generate three-dimensional array (3x3x3) with random floats."
   ],
   "metadata": {}
  },
  {
   "cell_type": "markdown",
   "source": [
    "4 Generate two one-dimensional arrays having integers between 1-50. First array should have even and second array should have odd numbers. Finally multiply each element from corresponding index positions from these two arrays for the result array. For example [(1 x 2),(3 x 4),(5 x 6),(7 x 8)...]."
   ],
   "metadata": {}
  },
  {
   "cell_type": "markdown",
   "source": [
    "5 Generate two-dimensional array (40 rows, 5 columns) containing random integers between 1 and 1000. Filter the result array so that only numbers divisable with numbers 2 and 5 are presented."
   ],
   "metadata": {}
  }
 ]
}