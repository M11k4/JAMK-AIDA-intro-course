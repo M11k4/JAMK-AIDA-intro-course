{
 "cells": [
  {
   "cell_type": "markdown",
   "source": [
    "## Exercise 9 - Image classification with Tensorflow\r\n",
    "- In this exercise you utilize CIFAR-10 dataset with Tensorflow for image classification.\r\n",
    "- Use [this example](https://hantt.pages.labranet.jamk.fi/ttc2050-material/material/08-ai-image-classification/#example-image-classification-using-cifar-10-dataset) as a reference."
   ],
   "metadata": {}
  },
  {
   "cell_type": "markdown",
   "source": [
    "1. Use example linked above as the base for your code and apply the following changes for your image classification process:\r\n",
    "\r\n"
   ],
   "metadata": {}
  }
 ],
 "metadata": {
  "orig_nbformat": 4,
  "language_info": {
   "name": "python"
  }
 },
 "nbformat": 4,
 "nbformat_minor": 2
}