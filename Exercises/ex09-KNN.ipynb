{
 "cells": [
  {
   "cell_type": "markdown",
   "id": "f5140ca7-001a-4e9f-be5b-19899ac4c4e8",
   "metadata": {},
   "source": [
    "## Exercise 9 - K-nearest neighbors\n",
    "\n",
    "- Use the same dataset as in previous exercise (ex08) (can be downloaded [here](http://student.labranet.jamk.fi/~hantt/data/voice.csv))\n",
    "- Dataset includes male and female voice samples with different features\n",
    "- In this exercise you will use supervised machine learning method called K-nearest neighbors for the dataset"
   ]
  },
  {
   "cell_type": "markdown",
   "id": "d1aeffdd-9d7d-4492-8a1d-7883f1bdcaeb",
   "metadata": {},
   "source": [
    "1 Import all necessary libraries. Then load the dataset and save it to the dataframe."
   ]
  },
  {
   "cell_type": "markdown",
   "id": "af98e26a-b4a4-4619-9382-c5a062e4efa3",
   "metadata": {},
   "source": [
    "2 filter the data so that only the following columns will be selected: **meanfun** and **IQR**. Then split the dataset so that 75 % of the data will be used for training."
   ]
  },
  {
   "cell_type": "markdown",
   "id": "4fcfa704-bfc3-4d67-8d3e-14eb7a04c912",
   "metadata": {},
   "source": [
    "3 Find the optimal value for k comparing possible values and error rate."
   ]
  },
  {
   "cell_type": "markdown",
   "id": "2909b172-c379-4a28-b95a-bdd1bf5b4a8d",
   "metadata": {},
   "source": [
    "4 Define a function and include the following operations inside the function:\n",
    "   - Define a classifier\n",
    "   - Fit the data for the classifier\n",
    "   - Calculate minimum and maximum values for boundaries (in this case sepal width and height)\n",
    "   - Run predictions\n",
    "   - Draw a chart from predicted data utilising previously defined colormaps"
   ]
  },
  {
   "cell_type": "markdown",
   "id": "58787167-8b2e-4484-b439-54d27c1fb0e5",
   "metadata": {},
   "source": [
    "5 Utilise your function and call it using the optimal k value chosen previously."
   ]
  }
 ],
 "metadata": {
  "kernelspec": {
   "display_name": "Python 3 (ipykernel)",
   "language": "python",
   "name": "python3"
  },
  "language_info": {
   "codemirror_mode": {
    "name": "ipython",
    "version": 3
   },
   "file_extension": ".py",
   "mimetype": "text/x-python",
   "name": "python",
   "nbconvert_exporter": "python",
   "pygments_lexer": "ipython3",
   "version": "3.8.12"
  }
 },
 "nbformat": 4,
 "nbformat_minor": 5
}
