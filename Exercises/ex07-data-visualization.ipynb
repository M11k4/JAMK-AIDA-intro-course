{
 "cells": [
  {
   "cell_type": "markdown",
   "metadata": {},
   "source": [
    "## Exercise 7 - Data visualization\n",
    "- Different data sources will be utilized in this exercise.\n",
    "- **Important**: Remember to adjust the size of each visualized graph using figsize parameter for plot method for better viewing experience!"
   ]
  },
  {
   "cell_type": "markdown",
   "metadata": {},
   "source": [
    "1 Read the earthquakes.csv file and save its content into a variable. Then use bar chart to visualize magnitude values being 8.2 or over so that date values will be presented in x-axle and magnitude in y-axle."
   ]
  },
  {
   "attachments": {},
   "cell_type": "markdown",
   "metadata": {},
   "source": [
    "2 Read the gamedata.json file to a new variable. Visualize the data with pie chart so that share count will be counted for each Steam rating (in other words how many percentage out of all games have received which rating)."
   ]
  },
  {
   "attachments": {},
   "cell_type": "markdown",
   "metadata": {},
   "source": [
    "3 Use the same game_data.json as above and create a scatter plot where you compare the relationships for metacriticScore and salePrice."
   ]
  },
  {
   "attachments": {},
   "cell_type": "markdown",
   "metadata": {},
   "source": [
    "4 Use earthquake data you read earlier (the unfiltered original data) and create a scatter plot for magnitude values using Longitude and Latitude values for x- and y-axles correspondingly. In addition, use colormap for magnitude values."
   ]
  }
 ],
 "metadata": {
  "language_info": {
   "codemirror_mode": {
    "name": "ipython",
    "version": 3
   },
   "file_extension": ".py",
   "mimetype": "text/x-python",
   "name": "python",
   "nbconvert_exporter": "python",
   "pygments_lexer": "ipython3",
   "version": 3
  },
  "orig_nbformat": 2
 },
 "nbformat": 4,
 "nbformat_minor": 2
}
