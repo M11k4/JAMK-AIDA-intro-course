{
 "cells": [
  {
   "cell_type": "markdown",
   "metadata": {},
   "source": [
    "## Exercise 8 - Object detection using Tensorflow hub modules\n",
    "- Use [this](https://hantt.pages.labranet.jamk.fi/ttc2050-material/material/08-ai-image-classification/#tensorflow-example-bounding-box-demo-using-pre-taught-cnn) demo as a guide for this exercise\n",
    "- <b style=\"color:red;\">Important:</b> Ensure that you have <b style=\"color:brown;\">tensorflow</b> and <b style=\"color:brown;\">tensorflow-hub</b> packages installed before starting! In addition, <b style=\"color:brown;\">tensorflow-estimator</b> package should use version 2.3.0!"
   ]
  },
  {
   "cell_type": "markdown",
   "metadata": {},
   "source": [
    "1 Implement the code presented in the exercise mentioned above and verify it runs without problems. Paste one processed screenshot here as a result."
   ]
  },
  {
   "cell_type": "markdown",
   "metadata": {},
   "source": [
    "2 Choose five images of your choice with several objects in each. Remove two example images with your own images (urls). Rerun the notebook and verify that you have bounding boxes in each processed image. At this point, write down time values (fetch time from Tensorflow hub and overall time including the image processing)."
   ]
  },
  {
   "cell_type": "markdown",
   "metadata": {},
   "source": [
    "3 If you have successfully completed the first two tasks, you will now change the used object detection module and rerun the notebook. Go to the website [https://tfhub.dev](https://tfhub.dev). This website contains information of all modules that can be utilized with Tensorflow. Search for the MobileNet V2 module (SSD-based which uses Open Images V4). Use the module url mentioned in the documentation and rerun your notebook. Similar to previous task, write down the time values for further comparison."
   ]
  },
  {
   "cell_type": "markdown",
   "metadata": {},
   "source": [
    "4 Comparing time values from two measurements, which one of the models performs faster? How much is the difference between two models?"
   ]
  },
  {
   "cell_type": "markdown",
   "metadata": {},
   "source": [
    "5 Now compare the actual object detection results. How do these compare?"
   ]
  }
 ],
 "metadata": {
  "language_info": {
   "name": "python"
  },
  "orig_nbformat": 4
 },
 "nbformat": 4,
 "nbformat_minor": 2
}
